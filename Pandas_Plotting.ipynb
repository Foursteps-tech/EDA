{
  "nbformat": 4,
  "nbformat_minor": 0,
  "metadata": {
    "colab": {
      "name": "Pandas_Plotting.ipynb",
      "provenance": [],
      "collapsed_sections": []
    },
    "kernelspec": {
      "name": "python3",
      "display_name": "Python 3"
    }
  },
  "cells": [
    {
      "cell_type": "markdown",
      "metadata": {
        "id": "58YjF4VCcGXM"
      },
      "source": [
        "# **Plotting**"
      ]
    },
    {
      "cell_type": "code",
      "metadata": {
        "id": "4XTSPD8Ka3yR"
      },
      "source": [
        "!git clone https://github.com/deepanrajm/machine_learning.git"
      ],
      "execution_count": null,
      "outputs": []
    },
    {
      "cell_type": "markdown",
      "metadata": {
        "id": "KyrXtOaocMWf"
      },
      "source": [
        "# General plot.**py**"
      ]
    },
    {
      "cell_type": "code",
      "metadata": {
        "id": "JsFATb435SwS"
      },
      "source": [
        "import matplotlib.pyplot as plt\n",
        "import numpy as np\n",
        "import seaborn as sns"
      ],
      "execution_count": 2,
      "outputs": []
    },
    {
      "cell_type": "code",
      "metadata": {
        "id": "khvgt4Gh5WMQ"
      },
      "source": [
        "x = np.random.random((10, 1))\n",
        "\n",
        "print(x)"
      ],
      "execution_count": null,
      "outputs": []
    },
    {
      "cell_type": "code",
      "metadata": {
        "id": "mofPFLUU5YoJ"
      },
      "source": [
        "plt.plot(x, '*-')\n",
        "plt.show()"
      ],
      "execution_count": null,
      "outputs": []
    },
    {
      "cell_type": "code",
      "metadata": {
        "id": "PNbDs8nY5eY2"
      },
      "source": [
        "x = np.linspace(0, 100, 50)\n",
        "y = np.power(x, .5)\n",
        "plt.plot(x, y, '+-')\n",
        "plt.show()"
      ],
      "execution_count": null,
      "outputs": []
    },
    {
      "cell_type": "code",
      "metadata": {
        "id": "37rikei85hCl"
      },
      "source": [
        "sns.set()\n",
        "sns.lineplot(x, y)\n",
        "plt.show()"
      ],
      "execution_count": null,
      "outputs": []
    },
    {
      "cell_type": "markdown",
      "metadata": {
        "id": "LOsbB7JHcgBD"
      },
      "source": [
        "# **Plotting Data from Dataset**"
      ]
    },
    {
      "cell_type": "code",
      "metadata": {
        "id": "TAKX_zkZ5uoD"
      },
      "source": [
        "import matplotlib.pyplot as plt\n",
        "import numpy as np\n",
        "import seaborn as sns\n",
        "import pandas as pd"
      ],
      "execution_count": 4,
      "outputs": []
    },
    {
      "cell_type": "code",
      "metadata": {
        "id": "Bjz0EPCD5xGz",
        "outputId": "a4d95b6d-761c-4f28-d367-e8491e2d0423",
        "colab": {
          "base_uri": "https://localhost:8080/",
          "height": 300
        }
      },
      "source": [
        "data = pd.read_csv('machine_learning/Plotting/mobile_cleaned.csv')\n",
        "data.head()"
      ],
      "execution_count": 21,
      "outputs": [
        {
          "output_type": "execute_result",
          "data": {
            "text/plain": [
              "   sim_type  aperture  gpu_rank  weight  stand_by_time  processor_frequency  \\\n",
              "0         0        12        55   155.0            250                  1.3   \n",
              "1         0         1        55   132.0            300                  1.3   \n",
              "2         0         9        55   142.0            329                  1.5   \n",
              "3         0         8        55   152.0            385                  1.3   \n",
              "4         1         1        55   234.0            385                  1.3   \n",
              "\n",
              "   thickness  flash_type  front_camera_resolution  auto_focus  ...  \\\n",
              "0       10.5           5                     2.00           0  ...   \n",
              "1       10.6           5                     0.30           1  ...   \n",
              "2        8.5           5                     2.00           3  ...   \n",
              "3        8.0           5                     2.00           3  ...   \n",
              "4        7.9           5                     1.92           3  ...   \n",
              "\n",
              "   micro_sd_slot  screen_pixel_density  water_proof_rate  phone_width  \\\n",
              "0              4                     2                 3         67.8   \n",
              "1              4                     4                 6         64.0   \n",
              "2              4                     9                 6         72.0   \n",
              "3              4                     1                 3         75.1   \n",
              "4              4                     1                 6         91.0   \n",
              "\n",
              "   expandable_memory  version  usb_type  battery_capacity  processor_rank  \\\n",
              "0               64.0        5         3              2000             125   \n",
              "1               32.0        5         3              2000             165   \n",
              "2               32.0        6         3              2500             164   \n",
              "3               32.0        6         3              3000             165   \n",
              "4               32.0        6         3              3000             165   \n",
              "\n",
              "   is_liked  \n",
              "0         1  \n",
              "1         1  \n",
              "2         0  \n",
              "3         1  \n",
              "4         0  \n",
              "\n",
              "[5 rows x 40 columns]"
            ],
            "text/html": [
              "\n",
              "  <div id=\"df-07d7f1cc-50fc-4e8b-8742-d9e94c23c572\">\n",
              "    <div class=\"colab-df-container\">\n",
              "      <div>\n",
              "<style scoped>\n",
              "    .dataframe tbody tr th:only-of-type {\n",
              "        vertical-align: middle;\n",
              "    }\n",
              "\n",
              "    .dataframe tbody tr th {\n",
              "        vertical-align: top;\n",
              "    }\n",
              "\n",
              "    .dataframe thead th {\n",
              "        text-align: right;\n",
              "    }\n",
              "</style>\n",
              "<table border=\"1\" class=\"dataframe\">\n",
              "  <thead>\n",
              "    <tr style=\"text-align: right;\">\n",
              "      <th></th>\n",
              "      <th>sim_type</th>\n",
              "      <th>aperture</th>\n",
              "      <th>gpu_rank</th>\n",
              "      <th>weight</th>\n",
              "      <th>stand_by_time</th>\n",
              "      <th>processor_frequency</th>\n",
              "      <th>thickness</th>\n",
              "      <th>flash_type</th>\n",
              "      <th>front_camera_resolution</th>\n",
              "      <th>auto_focus</th>\n",
              "      <th>...</th>\n",
              "      <th>micro_sd_slot</th>\n",
              "      <th>screen_pixel_density</th>\n",
              "      <th>water_proof_rate</th>\n",
              "      <th>phone_width</th>\n",
              "      <th>expandable_memory</th>\n",
              "      <th>version</th>\n",
              "      <th>usb_type</th>\n",
              "      <th>battery_capacity</th>\n",
              "      <th>processor_rank</th>\n",
              "      <th>is_liked</th>\n",
              "    </tr>\n",
              "  </thead>\n",
              "  <tbody>\n",
              "    <tr>\n",
              "      <th>0</th>\n",
              "      <td>0</td>\n",
              "      <td>12</td>\n",
              "      <td>55</td>\n",
              "      <td>155.0</td>\n",
              "      <td>250</td>\n",
              "      <td>1.3</td>\n",
              "      <td>10.5</td>\n",
              "      <td>5</td>\n",
              "      <td>2.00</td>\n",
              "      <td>0</td>\n",
              "      <td>...</td>\n",
              "      <td>4</td>\n",
              "      <td>2</td>\n",
              "      <td>3</td>\n",
              "      <td>67.8</td>\n",
              "      <td>64.0</td>\n",
              "      <td>5</td>\n",
              "      <td>3</td>\n",
              "      <td>2000</td>\n",
              "      <td>125</td>\n",
              "      <td>1</td>\n",
              "    </tr>\n",
              "    <tr>\n",
              "      <th>1</th>\n",
              "      <td>0</td>\n",
              "      <td>1</td>\n",
              "      <td>55</td>\n",
              "      <td>132.0</td>\n",
              "      <td>300</td>\n",
              "      <td>1.3</td>\n",
              "      <td>10.6</td>\n",
              "      <td>5</td>\n",
              "      <td>0.30</td>\n",
              "      <td>1</td>\n",
              "      <td>...</td>\n",
              "      <td>4</td>\n",
              "      <td>4</td>\n",
              "      <td>6</td>\n",
              "      <td>64.0</td>\n",
              "      <td>32.0</td>\n",
              "      <td>5</td>\n",
              "      <td>3</td>\n",
              "      <td>2000</td>\n",
              "      <td>165</td>\n",
              "      <td>1</td>\n",
              "    </tr>\n",
              "    <tr>\n",
              "      <th>2</th>\n",
              "      <td>0</td>\n",
              "      <td>9</td>\n",
              "      <td>55</td>\n",
              "      <td>142.0</td>\n",
              "      <td>329</td>\n",
              "      <td>1.5</td>\n",
              "      <td>8.5</td>\n",
              "      <td>5</td>\n",
              "      <td>2.00</td>\n",
              "      <td>3</td>\n",
              "      <td>...</td>\n",
              "      <td>4</td>\n",
              "      <td>9</td>\n",
              "      <td>6</td>\n",
              "      <td>72.0</td>\n",
              "      <td>32.0</td>\n",
              "      <td>6</td>\n",
              "      <td>3</td>\n",
              "      <td>2500</td>\n",
              "      <td>164</td>\n",
              "      <td>0</td>\n",
              "    </tr>\n",
              "    <tr>\n",
              "      <th>3</th>\n",
              "      <td>0</td>\n",
              "      <td>8</td>\n",
              "      <td>55</td>\n",
              "      <td>152.0</td>\n",
              "      <td>385</td>\n",
              "      <td>1.3</td>\n",
              "      <td>8.0</td>\n",
              "      <td>5</td>\n",
              "      <td>2.00</td>\n",
              "      <td>3</td>\n",
              "      <td>...</td>\n",
              "      <td>4</td>\n",
              "      <td>1</td>\n",
              "      <td>3</td>\n",
              "      <td>75.1</td>\n",
              "      <td>32.0</td>\n",
              "      <td>6</td>\n",
              "      <td>3</td>\n",
              "      <td>3000</td>\n",
              "      <td>165</td>\n",
              "      <td>1</td>\n",
              "    </tr>\n",
              "    <tr>\n",
              "      <th>4</th>\n",
              "      <td>1</td>\n",
              "      <td>1</td>\n",
              "      <td>55</td>\n",
              "      <td>234.0</td>\n",
              "      <td>385</td>\n",
              "      <td>1.3</td>\n",
              "      <td>7.9</td>\n",
              "      <td>5</td>\n",
              "      <td>1.92</td>\n",
              "      <td>3</td>\n",
              "      <td>...</td>\n",
              "      <td>4</td>\n",
              "      <td>1</td>\n",
              "      <td>6</td>\n",
              "      <td>91.0</td>\n",
              "      <td>32.0</td>\n",
              "      <td>6</td>\n",
              "      <td>3</td>\n",
              "      <td>3000</td>\n",
              "      <td>165</td>\n",
              "      <td>0</td>\n",
              "    </tr>\n",
              "  </tbody>\n",
              "</table>\n",
              "<p>5 rows × 40 columns</p>\n",
              "</div>\n",
              "      <button class=\"colab-df-convert\" onclick=\"convertToInteractive('df-07d7f1cc-50fc-4e8b-8742-d9e94c23c572')\"\n",
              "              title=\"Convert this dataframe to an interactive table.\"\n",
              "              style=\"display:none;\">\n",
              "        \n",
              "  <svg xmlns=\"http://www.w3.org/2000/svg\" height=\"24px\"viewBox=\"0 0 24 24\"\n",
              "       width=\"24px\">\n",
              "    <path d=\"M0 0h24v24H0V0z\" fill=\"none\"/>\n",
              "    <path d=\"M18.56 5.44l.94 2.06.94-2.06 2.06-.94-2.06-.94-.94-2.06-.94 2.06-2.06.94zm-11 1L8.5 8.5l.94-2.06 2.06-.94-2.06-.94L8.5 2.5l-.94 2.06-2.06.94zm10 10l.94 2.06.94-2.06 2.06-.94-2.06-.94-.94-2.06-.94 2.06-2.06.94z\"/><path d=\"M17.41 7.96l-1.37-1.37c-.4-.4-.92-.59-1.43-.59-.52 0-1.04.2-1.43.59L10.3 9.45l-7.72 7.72c-.78.78-.78 2.05 0 2.83L4 21.41c.39.39.9.59 1.41.59.51 0 1.02-.2 1.41-.59l7.78-7.78 2.81-2.81c.8-.78.8-2.07 0-2.86zM5.41 20L4 18.59l7.72-7.72 1.47 1.35L5.41 20z\"/>\n",
              "  </svg>\n",
              "      </button>\n",
              "      \n",
              "  <style>\n",
              "    .colab-df-container {\n",
              "      display:flex;\n",
              "      flex-wrap:wrap;\n",
              "      gap: 12px;\n",
              "    }\n",
              "\n",
              "    .colab-df-convert {\n",
              "      background-color: #E8F0FE;\n",
              "      border: none;\n",
              "      border-radius: 50%;\n",
              "      cursor: pointer;\n",
              "      display: none;\n",
              "      fill: #1967D2;\n",
              "      height: 32px;\n",
              "      padding: 0 0 0 0;\n",
              "      width: 32px;\n",
              "    }\n",
              "\n",
              "    .colab-df-convert:hover {\n",
              "      background-color: #E2EBFA;\n",
              "      box-shadow: 0px 1px 2px rgba(60, 64, 67, 0.3), 0px 1px 3px 1px rgba(60, 64, 67, 0.15);\n",
              "      fill: #174EA6;\n",
              "    }\n",
              "\n",
              "    [theme=dark] .colab-df-convert {\n",
              "      background-color: #3B4455;\n",
              "      fill: #D2E3FC;\n",
              "    }\n",
              "\n",
              "    [theme=dark] .colab-df-convert:hover {\n",
              "      background-color: #434B5C;\n",
              "      box-shadow: 0px 1px 3px 1px rgba(0, 0, 0, 0.15);\n",
              "      filter: drop-shadow(0px 1px 2px rgba(0, 0, 0, 0.3));\n",
              "      fill: #FFFFFF;\n",
              "    }\n",
              "  </style>\n",
              "\n",
              "      <script>\n",
              "        const buttonEl =\n",
              "          document.querySelector('#df-07d7f1cc-50fc-4e8b-8742-d9e94c23c572 button.colab-df-convert');\n",
              "        buttonEl.style.display =\n",
              "          google.colab.kernel.accessAllowed ? 'block' : 'none';\n",
              "\n",
              "        async function convertToInteractive(key) {\n",
              "          const element = document.querySelector('#df-07d7f1cc-50fc-4e8b-8742-d9e94c23c572');\n",
              "          const dataTable =\n",
              "            await google.colab.kernel.invokeFunction('convertToInteractive',\n",
              "                                                     [key], {});\n",
              "          if (!dataTable) return;\n",
              "\n",
              "          const docLinkHtml = 'Like what you see? Visit the ' +\n",
              "            '<a target=\"_blank\" href=https://colab.research.google.com/notebooks/data_table.ipynb>data table notebook</a>'\n",
              "            + ' to learn more about interactive tables.';\n",
              "          element.innerHTML = '';\n",
              "          dataTable['output_type'] = 'display_data';\n",
              "          await google.colab.output.renderOutput(dataTable, element);\n",
              "          const docLink = document.createElement('div');\n",
              "          docLink.innerHTML = docLinkHtml;\n",
              "          element.appendChild(docLink);\n",
              "        }\n",
              "      </script>\n",
              "    </div>\n",
              "  </div>\n",
              "  "
            ]
          },
          "metadata": {},
          "execution_count": 21
        }
      ]
    },
    {
      "cell_type": "code",
      "source": [
        "data.describe()"
      ],
      "metadata": {
        "id": "R4iBf0ZTS4YY"
      },
      "execution_count": null,
      "outputs": []
    },
    {
      "cell_type": "markdown",
      "source": [
        "# Uni-Variant"
      ],
      "metadata": {
        "id": "ZaSMfbxi1LaQ"
      }
    },
    {
      "cell_type": "code",
      "source": [
        "sns.countplot(x ='sim_type', data = data)\n",
        "plt.show()"
      ],
      "metadata": {
        "id": "qlz9QI4CTGdo"
      },
      "execution_count": null,
      "outputs": []
    },
    {
      "cell_type": "code",
      "metadata": {
        "id": "_dhfWITu6CsF"
      },
      "source": [
        "sns.distplot(data[\"stand_by_time\"])\n",
        "plt.show()"
      ],
      "execution_count": null,
      "outputs": []
    },
    {
      "cell_type": "code",
      "source": [
        "sns.histplot(data=data, x=\"stand_by_time\")\n",
        "plt.show()"
      ],
      "metadata": {
        "id": "hXe0eNSb4y8k"
      },
      "execution_count": null,
      "outputs": []
    },
    {
      "cell_type": "markdown",
      "source": [
        "# Bi-Variant"
      ],
      "metadata": {
        "id": "UxE03eoS1OpI"
      }
    },
    {
      "cell_type": "code",
      "metadata": {
        "id": "-ZPqF4i85-CR"
      },
      "source": [
        "ax = sns.scatterplot(x=\"stand_by_time\", y=\"battery_capacity\", data=data)\n",
        "plt.show()"
      ],
      "execution_count": null,
      "outputs": []
    },
    {
      "cell_type": "code",
      "metadata": {
        "id": "gn07WOHw6D4r"
      },
      "source": [
        "#Minimum, 25,50,75, max\n",
        "ax = sns.boxplot(x=\"is_liked\", y=\"battery_capacity\", data=data)\n",
        "plt.show()\n",
        "#Minimum = Q1–1.5 * IQR and Maximum = Q3 + 1.5 * IQR"
      ],
      "execution_count": null,
      "outputs": []
    },
    {
      "cell_type": "code",
      "metadata": {
        "id": "wN4hUmPocpP6"
      },
      "source": [
        "ax = sns.boxplot(x = \"expandable_memory\", y = \"price\", data=data)\n",
        "plt.show()"
      ],
      "execution_count": null,
      "outputs": []
    },
    {
      "cell_type": "markdown",
      "source": [
        "# Multi-Variant"
      ],
      "metadata": {
        "id": "u-l5QEEq1SIZ"
      }
    },
    {
      "cell_type": "code",
      "source": [
        "ax = sns.violinplot(x='expandable_memory', y='price', data=data,\n",
        "               hue='is_liked', split=True)\n",
        "plt.show()"
      ],
      "metadata": {
        "id": "7E3j5r6NSgI9"
      },
      "execution_count": null,
      "outputs": []
    },
    {
      "cell_type": "code",
      "metadata": {
        "id": "qjMZ4my86AXk"
      },
      "source": [
        "ax = sns.scatterplot(x = \"stand_by_time\", y = \"battery_capacity\", hue=\"thickness\", data=data)\n",
        "plt.show()"
      ],
      "execution_count": null,
      "outputs": []
    },
    {
      "cell_type": "code",
      "metadata": {
        "id": "KBohZqYVc3v-"
      },
      "source": [
        "dataframe = pd.read_csv(\"machine_learning/Plotting/iris.csv\")\n",
        "print(dataframe.head())\n",
        "\n",
        "\n",
        "ax = sns.scatterplot(x=\"petal.length\", y=\"petal.width\",hue=\"variety\",size = \"sepal.width\",data=dataframe)\n",
        "plt.show()"
      ],
      "execution_count": null,
      "outputs": []
    },
    {
      "cell_type": "code",
      "source": [
        "ax = sns.swarmplot(x='sepal.length', y='variety', data=dataframe)"
      ],
      "metadata": {
        "id": "s6wS3b8oT_CF"
      },
      "execution_count": null,
      "outputs": []
    },
    {
      "cell_type": "code",
      "source": [
        "sns.pairplot(dataframe[['petal.length','petal.width','sepal.length','sepal.width']])\n",
        "plt.show()"
      ],
      "metadata": {
        "id": "4C8xqVR51YJ1"
      },
      "execution_count": null,
      "outputs": []
    },
    {
      "cell_type": "code",
      "source": [
        "sns.pairplot(dataframe, hue='variety')\n",
        "plt.show()"
      ],
      "metadata": {
        "id": "3TaubmCj2w-A"
      },
      "execution_count": null,
      "outputs": []
    }
  ]
}